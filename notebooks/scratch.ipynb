{
 "cells": [
  {
   "cell_type": "code",
   "execution_count": 41,
   "metadata": {},
   "outputs": [],
   "source": [
    "import geopandas as gp\n",
    "import os\n",
    "import shapefile\n",
    "import shutil"
   ]
  },
  {
   "cell_type": "code",
   "execution_count": 21,
   "metadata": {},
   "outputs": [],
   "source": [
    "path_dir, suffix = os.path.splitext('data/geodata/nbrhds_wards.zip')\n",
    "geo_path = \"zip://\" + 'data/geodata/nbrhds_wards.zip!WARDS_2010.shp'\n",
    "geo_df = gp.read_file(geo_path)\n",
    "os.makedirs(path_dir)"
   ]
  },
  {
   "cell_type": "code",
   "execution_count": 10,
   "metadata": {},
   "outputs": [
    {
     "name": "stdout",
     "output_type": "stream",
     "text": [
      "/home/tyler/code/dsa-data\n"
     ]
    }
   ],
   "source": [
    "%cd .."
   ]
  },
  {
   "cell_type": "code",
   "execution_count": 15,
   "metadata": {
    "collapsed": true,
    "jupyter": {
     "outputs_hidden": true
    }
   },
   "outputs": [
    {
     "data": {
      "text/html": [
       "<div>\n",
       "<style scoped>\n",
       "    .dataframe tbody tr th:only-of-type {\n",
       "        vertical-align: middle;\n",
       "    }\n",
       "\n",
       "    .dataframe tbody tr th {\n",
       "        vertical-align: top;\n",
       "    }\n",
       "\n",
       "    .dataframe thead th {\n",
       "        text-align: right;\n",
       "    }\n",
       "</style>\n",
       "<table border=\"1\" class=\"dataframe\">\n",
       "  <thead>\n",
       "    <tr style=\"text-align: right;\">\n",
       "      <th></th>\n",
       "      <th>HANDLE</th>\n",
       "      <th>Ward11</th>\n",
       "      <th>Ward</th>\n",
       "      <th>geometry</th>\n",
       "    </tr>\n",
       "  </thead>\n",
       "  <tbody>\n",
       "    <tr>\n",
       "      <th>0</th>\n",
       "      <td>01</td>\n",
       "      <td>01</td>\n",
       "      <td>1</td>\n",
       "      <td>POLYGON ((889300.310 1030286.623, 888521.458 1...</td>\n",
       "    </tr>\n",
       "    <tr>\n",
       "      <th>1</th>\n",
       "      <td>02</td>\n",
       "      <td>02</td>\n",
       "      <td>2</td>\n",
       "      <td>POLYGON ((912127.057 1022731.724, 911057.459 1...</td>\n",
       "    </tr>\n",
       "    <tr>\n",
       "      <th>2</th>\n",
       "      <td>03</td>\n",
       "      <td>03</td>\n",
       "      <td>3</td>\n",
       "      <td>POLYGON ((899912.302 1025620.655, 899776.648 1...</td>\n",
       "    </tr>\n",
       "    <tr>\n",
       "      <th>3</th>\n",
       "      <td>04</td>\n",
       "      <td>04</td>\n",
       "      <td>4</td>\n",
       "      <td>POLYGON ((896202.517 1025184.284, 896064.399 1...</td>\n",
       "    </tr>\n",
       "    <tr>\n",
       "      <th>4</th>\n",
       "      <td>05</td>\n",
       "      <td>05</td>\n",
       "      <td>5</td>\n",
       "      <td>POLYGON ((900129.348 1027317.605, 900193.735 1...</td>\n",
       "    </tr>\n",
       "    <tr>\n",
       "      <th>5</th>\n",
       "      <td>06</td>\n",
       "      <td>06</td>\n",
       "      <td>6</td>\n",
       "      <td>POLYGON ((894268.491 1011010.134, 894303.768 1...</td>\n",
       "    </tr>\n",
       "    <tr>\n",
       "      <th>6</th>\n",
       "      <td>07</td>\n",
       "      <td>07</td>\n",
       "      <td>7</td>\n",
       "      <td>POLYGON ((912115.702 1019612.274, 912110.002 1...</td>\n",
       "    </tr>\n",
       "    <tr>\n",
       "      <th>7</th>\n",
       "      <td>08</td>\n",
       "      <td>08</td>\n",
       "      <td>8</td>\n",
       "      <td>POLYGON ((883266.198 1009582.334, 883300.568 1...</td>\n",
       "    </tr>\n",
       "    <tr>\n",
       "      <th>8</th>\n",
       "      <td>09</td>\n",
       "      <td>09</td>\n",
       "      <td>9</td>\n",
       "      <td>POLYGON ((893827.455 1005101.270, 894092.152 1...</td>\n",
       "    </tr>\n",
       "    <tr>\n",
       "      <th>9</th>\n",
       "      <td>10</td>\n",
       "      <td>10</td>\n",
       "      <td>10</td>\n",
       "      <td>POLYGON ((884994.047 1004280.988, 884808.297 1...</td>\n",
       "    </tr>\n",
       "    <tr>\n",
       "      <th>10</th>\n",
       "      <td>11</td>\n",
       "      <td>11</td>\n",
       "      <td>11</td>\n",
       "      <td>POLYGON ((883101.534 989874.578, 883178.235 98...</td>\n",
       "    </tr>\n",
       "    <tr>\n",
       "      <th>11</th>\n",
       "      <td>12</td>\n",
       "      <td>12</td>\n",
       "      <td>12</td>\n",
       "      <td>POLYGON ((883101.534 989874.578, 883099.234 98...</td>\n",
       "    </tr>\n",
       "    <tr>\n",
       "      <th>12</th>\n",
       "      <td>13</td>\n",
       "      <td>13</td>\n",
       "      <td>13</td>\n",
       "      <td>POLYGON ((887729.591 992525.386, 887367.993 99...</td>\n",
       "    </tr>\n",
       "    <tr>\n",
       "      <th>13</th>\n",
       "      <td>14</td>\n",
       "      <td>14</td>\n",
       "      <td>14</td>\n",
       "      <td>POLYGON ((890013.443 998540.412, 889602.482 99...</td>\n",
       "    </tr>\n",
       "    <tr>\n",
       "      <th>14</th>\n",
       "      <td>15</td>\n",
       "      <td>15</td>\n",
       "      <td>15</td>\n",
       "      <td>POLYGON ((893233.622 1003186.701, 893053.192 1...</td>\n",
       "    </tr>\n",
       "    <tr>\n",
       "      <th>15</th>\n",
       "      <td>16</td>\n",
       "      <td>16</td>\n",
       "      <td>16</td>\n",
       "      <td>POLYGON ((878482.092 996448.512, 878396.333 99...</td>\n",
       "    </tr>\n",
       "    <tr>\n",
       "      <th>16</th>\n",
       "      <td>17</td>\n",
       "      <td>17</td>\n",
       "      <td>17</td>\n",
       "      <td>POLYGON ((886916.544 1014103.707, 886954.002 1...</td>\n",
       "    </tr>\n",
       "    <tr>\n",
       "      <th>17</th>\n",
       "      <td>18</td>\n",
       "      <td>18</td>\n",
       "      <td>18</td>\n",
       "      <td>POLYGON ((895253.806 1020228.854, 893946.807 1...</td>\n",
       "    </tr>\n",
       "    <tr>\n",
       "      <th>18</th>\n",
       "      <td>19</td>\n",
       "      <td>19</td>\n",
       "      <td>19</td>\n",
       "      <td>POLYGON ((888767.256 1014139.731, 888992.052 1...</td>\n",
       "    </tr>\n",
       "    <tr>\n",
       "      <th>19</th>\n",
       "      <td>20</td>\n",
       "      <td>20</td>\n",
       "      <td>20</td>\n",
       "      <td>POLYGON ((895026.000 998873.816, 894998.278 99...</td>\n",
       "    </tr>\n",
       "    <tr>\n",
       "      <th>20</th>\n",
       "      <td>21</td>\n",
       "      <td>21</td>\n",
       "      <td>21</td>\n",
       "      <td>POLYGON ((897620.758 1031626.582, 897188.956 1...</td>\n",
       "    </tr>\n",
       "    <tr>\n",
       "      <th>21</th>\n",
       "      <td>22</td>\n",
       "      <td>22</td>\n",
       "      <td>22</td>\n",
       "      <td>POLYGON ((884118.581 1030372.503, 883374.434 1...</td>\n",
       "    </tr>\n",
       "    <tr>\n",
       "      <th>22</th>\n",
       "      <td>23</td>\n",
       "      <td>23</td>\n",
       "      <td>23</td>\n",
       "      <td>POLYGON ((883197.677 1003750.852, 882043.943 1...</td>\n",
       "    </tr>\n",
       "    <tr>\n",
       "      <th>23</th>\n",
       "      <td>24</td>\n",
       "      <td>24</td>\n",
       "      <td>24</td>\n",
       "      <td>POLYGON ((871966.700 1006701.454, 872077.004 1...</td>\n",
       "    </tr>\n",
       "    <tr>\n",
       "      <th>24</th>\n",
       "      <td>25</td>\n",
       "      <td>25</td>\n",
       "      <td>25</td>\n",
       "      <td>POLYGON ((893134.305 994136.824, 892831.736 99...</td>\n",
       "    </tr>\n",
       "    <tr>\n",
       "      <th>25</th>\n",
       "      <td>26</td>\n",
       "      <td>26</td>\n",
       "      <td>26</td>\n",
       "      <td>POLYGON ((877949.359 1029492.847, 878160.618 1...</td>\n",
       "    </tr>\n",
       "    <tr>\n",
       "      <th>26</th>\n",
       "      <td>27</td>\n",
       "      <td>27</td>\n",
       "      <td>27</td>\n",
       "      <td>POLYGON ((891284.050 1039639.264, 891188.460 1...</td>\n",
       "    </tr>\n",
       "    <tr>\n",
       "      <th>27</th>\n",
       "      <td>28</td>\n",
       "      <td>28</td>\n",
       "      <td>28</td>\n",
       "      <td>POLYGON ((874784.016 1017962.023, 874853.120 1...</td>\n",
       "    </tr>\n",
       "  </tbody>\n",
       "</table>\n",
       "</div>"
      ],
      "text/plain": [
       "   HANDLE Ward11  Ward                                           geometry\n",
       "0      01     01     1  POLYGON ((889300.310 1030286.623, 888521.458 1...\n",
       "1      02     02     2  POLYGON ((912127.057 1022731.724, 911057.459 1...\n",
       "2      03     03     3  POLYGON ((899912.302 1025620.655, 899776.648 1...\n",
       "3      04     04     4  POLYGON ((896202.517 1025184.284, 896064.399 1...\n",
       "4      05     05     5  POLYGON ((900129.348 1027317.605, 900193.735 1...\n",
       "5      06     06     6  POLYGON ((894268.491 1011010.134, 894303.768 1...\n",
       "6      07     07     7  POLYGON ((912115.702 1019612.274, 912110.002 1...\n",
       "7      08     08     8  POLYGON ((883266.198 1009582.334, 883300.568 1...\n",
       "8      09     09     9  POLYGON ((893827.455 1005101.270, 894092.152 1...\n",
       "9      10     10    10  POLYGON ((884994.047 1004280.988, 884808.297 1...\n",
       "10     11     11    11  POLYGON ((883101.534 989874.578, 883178.235 98...\n",
       "11     12     12    12  POLYGON ((883101.534 989874.578, 883099.234 98...\n",
       "12     13     13    13  POLYGON ((887729.591 992525.386, 887367.993 99...\n",
       "13     14     14    14  POLYGON ((890013.443 998540.412, 889602.482 99...\n",
       "14     15     15    15  POLYGON ((893233.622 1003186.701, 893053.192 1...\n",
       "15     16     16    16  POLYGON ((878482.092 996448.512, 878396.333 99...\n",
       "16     17     17    17  POLYGON ((886916.544 1014103.707, 886954.002 1...\n",
       "17     18     18    18  POLYGON ((895253.806 1020228.854, 893946.807 1...\n",
       "18     19     19    19  POLYGON ((888767.256 1014139.731, 888992.052 1...\n",
       "19     20     20    20  POLYGON ((895026.000 998873.816, 894998.278 99...\n",
       "20     21     21    21  POLYGON ((897620.758 1031626.582, 897188.956 1...\n",
       "21     22     22    22  POLYGON ((884118.581 1030372.503, 883374.434 1...\n",
       "22     23     23    23  POLYGON ((883197.677 1003750.852, 882043.943 1...\n",
       "23     24     24    24  POLYGON ((871966.700 1006701.454, 872077.004 1...\n",
       "24     25     25    25  POLYGON ((893134.305 994136.824, 892831.736 99...\n",
       "25     26     26    26  POLYGON ((877949.359 1029492.847, 878160.618 1...\n",
       "26     27     27    27  POLYGON ((891284.050 1039639.264, 891188.460 1...\n",
       "27     28     28    28  POLYGON ((874784.016 1017962.023, 874853.120 1..."
      ]
     },
     "execution_count": 15,
     "metadata": {},
     "output_type": "execute_result"
    }
   ],
   "source": [
    "gp.read_file(\"zip://data/geodata/nbrhds_wards.zip!WARDS_2010.shp\")"
   ]
  },
  {
   "cell_type": "code",
   "execution_count": null,
   "metadata": {},
   "outputs": [],
   "source": [
    "geo_stem = filepath.stem / specifier.stem\n",
    "geo_df.to_file(geo_path, driver=\"GeoJSON\")"
   ]
  },
  {
   "cell_type": "code",
   "execution_count": 22,
   "metadata": {},
   "outputs": [],
   "source": [
    "from pathlib import Path"
   ]
  },
  {
   "cell_type": "code",
   "execution_count": 24,
   "metadata": {},
   "outputs": [
    {
     "data": {
      "text/plain": [
       "PosixPath('werjl')"
      ]
     },
     "execution_count": 24,
     "metadata": {},
     "output_type": "execute_result"
    }
   ],
   "source": [
    "Path('test.')"
   ]
  },
  {
   "cell_type": "code",
   "execution_count": 52,
   "metadata": {},
   "outputs": [],
   "source": [
    "shapefile_dir = Path(\"test_dir\")"
   ]
  },
  {
   "cell_type": "code",
   "execution_count": 53,
   "metadata": {},
   "outputs": [],
   "source": [
    "shapefile_path = shapefile_dir / \"testfile\""
   ]
  },
  {
   "cell_type": "code",
   "execution_count": 54,
   "metadata": {},
   "outputs": [],
   "source": [
    "w = shapefile.Writer(shapefile_path)"
   ]
  },
  {
   "cell_type": "code",
   "execution_count": 55,
   "metadata": {},
   "outputs": [],
   "source": [
    "w.field(\"field1\", \"C\")"
   ]
  },
  {
   "cell_type": "code",
   "execution_count": 56,
   "metadata": {},
   "outputs": [],
   "source": [
    "zip_path = shutil.make_archive(\"test_dir\", 'zip', 'test_dir')"
   ]
  },
  {
   "cell_type": "code",
   "execution_count": 57,
   "metadata": {},
   "outputs": [
    {
     "data": {
      "text/plain": [
       "'/home/tyler/code/dsa-data/test_dir.zip'"
      ]
     },
     "execution_count": 57,
     "metadata": {},
     "output_type": "execute_result"
    }
   ],
   "source": [
    "zip_path"
   ]
  },
  {
   "cell_type": "code",
   "execution_count": 58,
   "metadata": {},
   "outputs": [
    {
     "data": {
      "text/plain": [
       "str"
      ]
     },
     "execution_count": 58,
     "metadata": {},
     "output_type": "execute_result"
    }
   ],
   "source": [
    "type(zip_path)"
   ]
  },
  {
   "cell_type": "code",
   "execution_count": null,
   "metadata": {},
   "outputs": [],
   "source": []
  }
 ],
 "metadata": {
  "kernelspec": {
   "display_name": "Python 3",
   "language": "python",
   "name": "python3"
  },
  "language_info": {
   "codemirror_mode": {
    "name": "ipython",
    "version": 3
   },
   "file_extension": ".py",
   "mimetype": "text/x-python",
   "name": "python",
   "nbconvert_exporter": "python",
   "pygments_lexer": "ipython3",
   "version": "3.8.6"
  }
 },
 "nbformat": 4,
 "nbformat_minor": 4
}
